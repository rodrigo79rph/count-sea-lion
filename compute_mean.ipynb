{
 "cells": [
  {
   "cell_type": "code",
   "execution_count": 1,
   "metadata": {},
   "outputs": [
    {
     "name": "stderr",
     "output_type": "stream",
     "text": [
      "/home/zenith/miniconda3/envs/tensorflow/lib/python3.5/site-packages/h5py/__init__.py:36: FutureWarning: Conversion of the second argument of issubdtype from `float` to `np.floating` is deprecated. In future, it will be treated as `np.float64 == np.dtype(float).type`.\n",
      "  from ._conv import register_converters as _register_converters\n"
     ]
    }
   ],
   "source": [
    "import numpy as np\n",
    "import h5py\n",
    "\n",
    "import matplotlib.pyplot as plt\n",
    "%matplotlib inline"
   ]
  },
  {
   "cell_type": "code",
   "execution_count": 2,
   "metadata": {},
   "outputs": [
    {
     "name": "stdout",
     "output_type": "stream",
     "text": [
      "dset_imgs.shape : (15713, 256, 256, 3)\n"
     ]
    }
   ],
   "source": [
    "# open the HDF5 file, generated previously, with `read` access.\n",
    "h5_file_train = h5py.File('data/train_all_classes.h5', 'r')\n",
    "\n",
    "# get the h5py.Dataset representing all images (256x256)\n",
    "dset_imgs = h5_file_train['imgs']\n",
    "print(\"dset_imgs.shape : {}\".format(dset_imgs.shape))"
   ]
  },
  {
   "cell_type": "code",
   "execution_count": 3,
   "metadata": {},
   "outputs": [
    {
     "name": "stdout",
     "output_type": "stream",
     "text": [
      "CPU times: user 57.9 s, sys: 1.47 s, total: 59.3 s\n",
      "Wall time: 1min 5s\n"
     ]
    },
    {
     "data": {
      "image/png": "[encoded data removed]",
      "text/plain": [
       "<matplotlib.figure.Figure at 0x7fef6855edd8>"
      ]
     },
     "metadata": {},
     "output_type": "display_data"
    }
   ],
   "source": [
    "%%time\n",
    "# plot pixel histogram\n",
    "_ = plt.hist(dset_imgs[:].flatten(), bins=256)"
   ]
  },
  {
   "cell_type": "code",
   "execution_count": 4,
   "metadata": {},
   "outputs": [
    {
     "name": "stdout",
     "output_type": "stream",
     "text": [
      "[133.84023 128.91234 124.34674]\n",
      "CPU times: user 5min 47s, sys: 1.15 s, total: 5min 48s\n",
      "Wall time: 5min 49s\n"
     ]
    }
   ],
   "source": [
    "%%time\n",
    "# compute mean of RBG channels (over the training set)\n",
    "# I compute channnel by channel, due to numerical error when I compute mean_rgb directly\n",
    "# mean_rgb = np.mean(dset_imgs[:], axis=(0,1,2), dtype=np.float32)\n",
    "mean_r = np.mean(dset_imgs[:,:,:,0], dtype=np.float32)\n",
    "mean_g = np.mean(dset_imgs[:,:,:,1], dtype=np.float32)\n",
    "mean_b = np.mean(dset_imgs[:,:,:,2], dtype=np.float32)\n",
    "\n",
    "mean_rgb = np.asarray([mean_r, mean_g, mean_b], dtype=np.float32)\n",
    "print(mean_rgb)"
   ]
  },
  {
   "cell_type": "code",
   "execution_count": 5,
   "metadata": {},
   "outputs": [],
   "source": [
    "np.save(\"mean_rgb.npy\", mean_rgb)"
   ]
  },
  {
   "cell_type": "code",
   "execution_count": null,
   "metadata": {},
   "outputs": [],
   "source": []
  }
 ],
 "metadata": {
  "kernelspec": {
   "display_name": "Python 3",
   "language": "python",
   "name": "python3"
  },
  "language_info": {
   "codemirror_mode": {
    "name": "ipython",
    "version": 3
   },
   "file_extension": ".py",
   "mimetype": "text/x-python",
   "name": "python",
   "nbconvert_exporter": "python",
   "pygments_lexer": "ipython3",
   "version": "3.5.4"
  }
 },
 "nbformat": 4,
 "nbformat_minor": 2
}
